{
 "cells": [
  {
   "cell_type": "markdown",
   "id": "9cbc570d",
   "metadata": {},
   "source": [
    "# Function"
   ]
  },
  {
   "cell_type": "code",
   "execution_count": 10,
   "id": "79bb771f",
   "metadata": {},
   "outputs": [
    {
     "name": "stdout",
     "output_type": "stream",
     "text": [
      "Hi, what is your name?gggi\n",
      "Hi gggi, you are wellcome\n"
     ]
    }
   ],
   "source": [
    "def greet():\n",
    "    name = input(\"Hi, what is your name? \")\n",
    "    return print(f\"Hi {name}, you are wellcome\")\n",
    "\n",
    "greet()"
   ]
  },
  {
   "cell_type": "markdown",
   "id": "9d6944df",
   "metadata": {},
   "source": [
    "# Class"
   ]
  },
  {
   "cell_type": "code",
   "execution_count": 26,
   "id": "080711e5",
   "metadata": {},
   "outputs": [],
   "source": [
    "job_title = \"Data Analyst\"\n",
    "job_location = \"United States\"\n",
    "job_salary = 90000\n",
    "\n",
    "\n",
    "class JobPost:\n",
    "    def __init__(self, title: str, location: str, salary: int):\n",
    "        self.title = title\n",
    "        self. location = location\n",
    "        self. salary = salary\n",
    "        \n",
    "    def display_info(self):\n",
    "        return print(f\"Job:        {self.title}\\nLocation:   {self.location}\\nSalary:     ${self.salary:,.0f}\")"
   ]
  },
  {
   "cell_type": "code",
   "execution_count": 28,
   "id": "cd79acd8",
   "metadata": {},
   "outputs": [
    {
     "data": {
      "text/plain": [
       "'Data Analyst'"
      ]
     },
     "execution_count": 28,
     "metadata": {},
     "output_type": "execute_result"
    }
   ],
   "source": [
    "job_1 = JobPost(job_title, job_location, job_salary)\n",
    "job_1.title"
   ]
  },
  {
   "cell_type": "code",
   "execution_count": 29,
   "id": "fcfb3f37",
   "metadata": {},
   "outputs": [
    {
     "name": "stdout",
     "output_type": "stream",
     "text": [
      "Job:        Data Analyst\n",
      "Location:   United States\n",
      "Salary:     $90,000\n"
     ]
    }
   ],
   "source": [
    "job_1.display_info()"
   ]
  },
  {
   "cell_type": "markdown",
   "id": "5bb13204",
   "metadata": {},
   "source": [
    "# String build in functions"
   ]
  },
  {
   "cell_type": "code",
   "execution_count": 30,
   "id": "f7b70339",
   "metadata": {},
   "outputs": [
    {
     "data": {
      "text/plain": [
       "'PYTHON'"
      ]
     },
     "execution_count": 30,
     "metadata": {},
     "output_type": "execute_result"
    }
   ],
   "source": [
    "skill = \"Python\"\n",
    "skill.upper()"
   ]
  },
  {
   "cell_type": "code",
   "execution_count": 32,
   "id": "e9c7e3a4",
   "metadata": {},
   "outputs": [
    {
     "data": {
      "text/plain": [
       "'python'"
      ]
     },
     "execution_count": 32,
     "metadata": {},
     "output_type": "execute_result"
    }
   ],
   "source": [
    "skill.lower()\n",
    "\"Python\".lower()\n",
    "str.lower(\"Python\")"
   ]
  },
  {
   "cell_type": "code",
   "execution_count": null,
   "id": "4d40f23b",
   "metadata": {},
   "outputs": [],
   "source": []
  }
 ],
 "metadata": {
  "kernelspec": {
   "display_name": "Python 3 (ipykernel)",
   "language": "python",
   "name": "python3"
  },
  "language_info": {
   "codemirror_mode": {
    "name": "ipython",
    "version": 3
   },
   "file_extension": ".py",
   "mimetype": "text/x-python",
   "name": "python",
   "nbconvert_exporter": "python",
   "pygments_lexer": "ipython3",
   "version": "3.11.4"
  }
 },
 "nbformat": 4,
 "nbformat_minor": 5
}
