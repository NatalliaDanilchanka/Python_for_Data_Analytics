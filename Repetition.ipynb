{
 "cells": [
  {
   "cell_type": "markdown",
   "id": "7706dbfa",
   "metadata": {},
   "source": [
    "# Function"
   ]
  },
  {
   "cell_type": "code",
   "execution_count": 1,
   "id": "49fcda32",
   "metadata": {},
   "outputs": [
    {
     "name": "stdout",
     "output_type": "stream",
     "text": [
      "Hi, what is your name? Mila\n",
      "Hi Mila, you are wellcome\n"
     ]
    }
   ],
   "source": [
    "def greet():\n",
    "    name = input(\"Hi, what is your name? \")\n",
    "    return print(f\"Hi {name}, you are wellcome\")\n",
    "\n",
    "greet()"
   ]
  },
  {
   "cell_type": "markdown",
   "id": "32a81b2e",
   "metadata": {},
   "source": [
    "# Class"
   ]
  },
  {
   "cell_type": "code",
   "execution_count": 2,
   "id": "c1c72f29",
   "metadata": {},
   "outputs": [],
   "source": [
    "job_title = \"Data Analyst\"\n",
    "job_location = \"United States\"\n",
    "job_salary = 90000\n",
    "\n",
    "\n",
    "class JobPost:\n",
    "    def __init__(self, title: str, location: str, salary: int):\n",
    "        self.title = title\n",
    "        self. location = location\n",
    "        self. salary = salary\n",
    "        \n",
    "    def display_info(self):\n",
    "        return print(f\"Job:        {self.title}\\nLocation:   {self.location}\\nSalary:     ${self.salary:,.0f}\")"
   ]
  },
  {
   "cell_type": "code",
   "execution_count": 3,
   "id": "1fa30b7d",
   "metadata": {},
   "outputs": [
    {
     "data": {
      "text/plain": [
       "'Data Analyst'"
      ]
     },
     "execution_count": 3,
     "metadata": {},
     "output_type": "execute_result"
    }
   ],
   "source": [
    "job_1 = JobPost(job_title, job_location, job_salary)\n",
    "job_1.title"
   ]
  },
  {
   "cell_type": "code",
   "execution_count": 4,
   "id": "21ac5e11",
   "metadata": {},
   "outputs": [
    {
     "name": "stdout",
     "output_type": "stream",
     "text": [
      "Job:        Data Analyst\n",
      "Location:   United States\n",
      "Salary:     $90,000\n"
     ]
    }
   ],
   "source": [
    "job_1.display_info()"
   ]
  },
  {
   "cell_type": "markdown",
   "id": "6611aa02",
   "metadata": {},
   "source": [
    "# String build in functions"
   ]
  },
  {
   "cell_type": "code",
   "execution_count": 5,
   "id": "b6ebd8e8",
   "metadata": {},
   "outputs": [
    {
     "data": {
      "text/plain": [
       "'PYTHON'"
      ]
     },
     "execution_count": 5,
     "metadata": {},
     "output_type": "execute_result"
    }
   ],
   "source": [
    "skill = \"Python\"\n",
    "skill.upper()"
   ]
  },
  {
   "cell_type": "code",
   "execution_count": 6,
   "id": "d8da46d6",
   "metadata": {},
   "outputs": [
    {
     "data": {
      "text/plain": [
       "'python'"
      ]
     },
     "execution_count": 6,
     "metadata": {},
     "output_type": "execute_result"
    }
   ],
   "source": [
    "skill.lower()\n",
    "\"Python\".lower()\n",
    "str.lower(\"Python\")"
   ]
  },
  {
   "cell_type": "code",
   "execution_count": 7,
   "id": "72a6626d",
   "metadata": {},
   "outputs": [
    {
     "data": {
      "text/plain": [
       "'Jython'"
      ]
     },
     "execution_count": 7,
     "metadata": {},
     "output_type": "execute_result"
    }
   ],
   "source": [
    "skill.replace(\"P\",\"J\")"
   ]
  },
  {
   "cell_type": "code",
   "execution_count": 8,
   "id": "808745f8",
   "metadata": {},
   "outputs": [
    {
     "data": {
      "text/plain": [
       "'Doto Analyst'"
      ]
     },
     "execution_count": 8,
     "metadata": {},
     "output_type": "execute_result"
    }
   ],
   "source": [
    "job_title = \"Data Analyst\"\n",
    "job_title.replace(\"a\", \"o\", 2)"
   ]
  },
  {
   "cell_type": "code",
   "execution_count": 9,
   "id": "a8e2d4a0",
   "metadata": {},
   "outputs": [
    {
     "name": "stdout",
     "output_type": "stream",
     "text": [
      "Help on method_descriptor:\n",
      "\n",
      "split(self, /, sep=None, maxsplit=-1)\n",
      "    Return a list of the substrings in the string, using sep as the separator string.\n",
      "    \n",
      "      sep\n",
      "        The separator used to split the string.\n",
      "    \n",
      "        When set to None (the default value), will split on any whitespace\n",
      "        character (including \\\\n \\\\r \\\\t \\\\f and spaces) and will discard\n",
      "        empty strings from the result.\n",
      "      maxsplit\n",
      "        Maximum number of splits (starting from the left).\n",
      "        -1 (the default value) means no limit.\n",
      "    \n",
      "    Note, str.split() is mainly useful for data that has been intentionally\n",
      "    delimited.  With natural text that includes punctuation, consider using\n",
      "    the regular expression module.\n",
      "\n"
     ]
    }
   ],
   "source": [
    "help(str.split)"
   ]
  },
  {
   "cell_type": "code",
   "execution_count": 10,
   "id": "bb9fe0ad",
   "metadata": {},
   "outputs": [
    {
     "data": {
      "text/plain": [
       "list"
      ]
     },
     "execution_count": 10,
     "metadata": {},
     "output_type": "execute_result"
    }
   ],
   "source": [
    "job_title = job_title.split(sep = \" \", maxsplit = 1)\n",
    "type(job_title)"
   ]
  },
  {
   "cell_type": "code",
   "execution_count": 11,
   "id": "bcd372fd",
   "metadata": {},
   "outputs": [
    {
     "data": {
      "text/plain": [
       "['Data', 'Analyst']"
      ]
     },
     "execution_count": 11,
     "metadata": {},
     "output_type": "execute_result"
    }
   ],
   "source": [
    "job_title"
   ]
  },
  {
   "cell_type": "code",
   "execution_count": 12,
   "id": "5dab6155",
   "metadata": {},
   "outputs": [
    {
     "data": {
      "text/plain": [
       "'DataAnalyst'"
      ]
     },
     "execution_count": 12,
     "metadata": {},
     "output_type": "execute_result"
    }
   ],
   "source": [
    "str.__add__(\"Data \", \"Analyst\")\n",
    "\"Data \".__add__(\"Analyst\")\n",
    "\"Data #\" + \"Analyst\""
   ]
  },
  {
   "cell_type": "code",
   "execution_count": 13,
   "id": "c6de9017",
   "metadata": {},
   "outputs": [
    {
     "data": {
      "text/plain": [
       "12"
      ]
     },
     "execution_count": 13,
     "metadata": {},
     "output_type": "execute_result"
    }
   ],
   "source": [
    "\"Data Analyst\".__len__()\n",
    "str.__len__(\"Data Analyst\")\n",
    "len(\"Data Analyst\")"
   ]
  },
  {
   "cell_type": "markdown",
   "id": "5283a698",
   "metadata": {},
   "source": [
    "# String Formatting"
   ]
  },
  {
   "cell_type": "code",
   "execution_count": 5,
   "id": "c41e6292",
   "metadata": {},
   "outputs": [],
   "source": [
    "role = \"Data science\"\n",
    "skill = \"Python\""
   ]
  },
  {
   "cell_type": "code",
   "execution_count": 2,
   "id": "c4740907",
   "metadata": {},
   "outputs": [
    {
     "data": {
      "text/plain": [
       "'Role: Data science'"
      ]
     },
     "execution_count": 2,
     "metadata": {},
     "output_type": "execute_result"
    }
   ],
   "source": [
    "# Using str.format()\n",
    "\"Role: {}\".format(role)"
   ]
  },
  {
   "cell_type": "code",
   "execution_count": 6,
   "id": "bf00d23d",
   "metadata": {},
   "outputs": [
    {
     "data": {
      "text/plain": [
       "'Role: Data science; Skill: Python'"
      ]
     },
     "execution_count": 6,
     "metadata": {},
     "output_type": "execute_result"
    }
   ],
   "source": [
    "# Using %-formatting (print-style string formatting)\n",
    "\"Role: %s; Skill: %s\" % (role, skill)"
   ]
  },
  {
   "cell_type": "code",
   "execution_count": 9,
   "id": "b7933e9e",
   "metadata": {},
   "outputs": [
    {
     "data": {
      "text/plain": [
       "'Role: Data science'"
      ]
     },
     "execution_count": 9,
     "metadata": {},
     "output_type": "execute_result"
    }
   ],
   "source": [
    "# Using f-string\n",
    "f\"Role: {role}\""
   ]
  },
  {
   "cell_type": "code",
   "execution_count": 13,
   "id": "73d57343",
   "metadata": {
    "scrolled": true
   },
   "outputs": [
    {
     "data": {
      "text/plain": [
       "'Python, SQL, Excel'"
      ]
     },
     "execution_count": 13,
     "metadata": {},
     "output_type": "execute_result"
    }
   ],
   "source": [
    "#join( ) method\n",
    "years_experience = \"0123456789\"\n",
    "\", \".join(years_experience)\n",
    "\n",
    "skills = [\"Python\", \"SQL\", \"Excel\"]\n",
    "type(\", \".join(skills))\n",
    "\", \".join(skills)"
   ]
  },
  {
   "cell_type": "code",
   "execution_count": 15,
   "id": "7a8da2b1",
   "metadata": {},
   "outputs": [
    {
     "data": {
      "text/plain": [
       "('Mark', 'Mila')"
      ]
     },
     "execution_count": 15,
     "metadata": {},
     "output_type": "execute_result"
    }
   ],
   "source": [
    "# swap variables\n",
    "\n",
    "aplicant_1 = \"Mila\"\n",
    "aplicant_2 = \"Mark\"\n",
    "\n",
    "aplicant_1, aplicant_2 = aplicant_2, aplicant_1\n",
    "aplicant_1, aplicant_2"
   ]
  },
  {
   "cell_type": "markdown",
   "id": "796a95a2",
   "metadata": {},
   "source": [
    "# Conditions"
   ]
  },
  {
   "cell_type": "code",
   "execution_count": 16,
   "id": "57181a9d",
   "metadata": {},
   "outputs": [
    {
     "name": "stdout",
     "output_type": "stream",
     "text": [
      "Always print\n"
     ]
    }
   ],
   "source": [
    "if True:\n",
    "    print(\"Always print\")"
   ]
  },
  {
   "cell_type": "markdown",
   "id": "6e43340f",
   "metadata": {},
   "source": [
    "# List"
   ]
  },
  {
   "cell_type": "code",
   "execution_count": null,
   "id": "aac06421",
   "metadata": {},
   "outputs": [],
   "source": []
  }
 ],
 "metadata": {
  "kernelspec": {
   "display_name": "Python 3 (ipykernel)",
   "language": "python",
   "name": "python3"
  },
  "language_info": {
   "codemirror_mode": {
    "name": "ipython",
    "version": 3
   },
   "file_extension": ".py",
   "mimetype": "text/x-python",
   "name": "python",
   "nbconvert_exporter": "python",
   "pygments_lexer": "ipython3",
   "version": "3.11.4"
  }
 },
 "nbformat": 4,
 "nbformat_minor": 5
}
