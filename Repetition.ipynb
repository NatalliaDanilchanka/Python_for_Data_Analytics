{
 "cells": [
  {
   "cell_type": "markdown",
   "id": "24fd7431",
   "metadata": {},
   "source": [
    "# Function"
   ]
  },
  {
   "cell_type": "code",
   "execution_count": 10,
   "id": "148aea62",
   "metadata": {},
   "outputs": [
    {
     "name": "stdout",
     "output_type": "stream",
     "text": [
      "Hi, what is your name?gggi\n",
      "Hi gggi, you are wellcome\n"
     ]
    }
   ],
   "source": [
    "def greet():\n",
    "    name = input(\"Hi, what is your name? \")\n",
    "    return print(f\"Hi {name}, you are wellcome\")\n",
    "\n",
    "greet()"
   ]
  },
  {
   "cell_type": "markdown",
   "id": "98453134",
   "metadata": {},
   "source": [
    "# Class"
   ]
  },
  {
   "cell_type": "code",
   "execution_count": 26,
   "id": "3162fba8",
   "metadata": {},
   "outputs": [],
   "source": [
    "job_title = \"Data Analyst\"\n",
    "job_location = \"United States\"\n",
    "job_salary = 90000\n",
    "\n",
    "\n",
    "class JobPost:\n",
    "    def __init__(self, title: str, location: str, salary: int):\n",
    "        self.title = title\n",
    "        self. location = location\n",
    "        self. salary = salary\n",
    "        \n",
    "    def display_info(self):\n",
    "        return print(f\"Job:        {self.title}\\nLocation:   {self.location}\\nSalary:     ${self.salary:,.0f}\")"
   ]
  },
  {
   "cell_type": "code",
   "execution_count": 28,
   "id": "64d5eae6",
   "metadata": {},
   "outputs": [
    {
     "data": {
      "text/plain": [
       "'Data Analyst'"
      ]
     },
     "execution_count": 28,
     "metadata": {},
     "output_type": "execute_result"
    }
   ],
   "source": [
    "job_1 = JobPost(job_title, job_location, job_salary)\n",
    "job_1.title"
   ]
  },
  {
   "cell_type": "code",
   "execution_count": 29,
   "id": "af31867b",
   "metadata": {},
   "outputs": [
    {
     "name": "stdout",
     "output_type": "stream",
     "text": [
      "Job:        Data Analyst\n",
      "Location:   United States\n",
      "Salary:     $90,000\n"
     ]
    }
   ],
   "source": [
    "job_1.display_info()"
   ]
  },
  {
   "cell_type": "markdown",
   "id": "2cf26950",
   "metadata": {},
   "source": [
    "# String build in functions"
   ]
  },
  {
   "cell_type": "code",
   "execution_count": 30,
   "id": "6ef0b8ce",
   "metadata": {},
   "outputs": [
    {
     "data": {
      "text/plain": [
       "'PYTHON'"
      ]
     },
     "execution_count": 30,
     "metadata": {},
     "output_type": "execute_result"
    }
   ],
   "source": [
    "skill = \"Python\"\n",
    "skill.upper()"
   ]
  },
  {
   "cell_type": "code",
   "execution_count": 32,
   "id": "8999d55d",
   "metadata": {},
   "outputs": [
    {
     "data": {
      "text/plain": [
       "'python'"
      ]
     },
     "execution_count": 32,
     "metadata": {},
     "output_type": "execute_result"
    }
   ],
   "source": [
    "skill.lower()\n",
    "\"Python\".lower()\n",
    "str.lower(\"Python\")"
   ]
  },
  {
   "cell_type": "code",
   "execution_count": 33,
   "id": "ea206eab",
   "metadata": {},
   "outputs": [
    {
     "data": {
      "text/plain": [
       "'Jython'"
      ]
     },
     "execution_count": 33,
     "metadata": {},
     "output_type": "execute_result"
    }
   ],
   "source": [
    "skill.replace(\"P\",\"J\")"
   ]
  },
  {
   "cell_type": "code",
   "execution_count": 34,
   "id": "aac8756f",
   "metadata": {},
   "outputs": [
    {
     "data": {
      "text/plain": [
       "'Doto Analyst'"
      ]
     },
     "execution_count": 34,
     "metadata": {},
     "output_type": "execute_result"
    }
   ],
   "source": [
    "job_title = \"Data Analyst\"\n",
    "job_title.replace(\"a\", \"o\", 2)"
   ]
  },
  {
   "cell_type": "code",
   "execution_count": 36,
   "id": "3248b06f",
   "metadata": {},
   "outputs": [
    {
     "name": "stdout",
     "output_type": "stream",
     "text": [
      "Help on method_descriptor:\n",
      "\n",
      "split(self, /, sep=None, maxsplit=-1)\n",
      "    Return a list of the substrings in the string, using sep as the separator string.\n",
      "    \n",
      "      sep\n",
      "        The separator used to split the string.\n",
      "    \n",
      "        When set to None (the default value), will split on any whitespace\n",
      "        character (including \\\\n \\\\r \\\\t \\\\f and spaces) and will discard\n",
      "        empty strings from the result.\n",
      "      maxsplit\n",
      "        Maximum number of splits (starting from the left).\n",
      "        -1 (the default value) means no limit.\n",
      "    \n",
      "    Note, str.split() is mainly useful for data that has been intentionally\n",
      "    delimited.  With natural text that includes punctuation, consider using\n",
      "    the regular expression module.\n",
      "\n"
     ]
    }
   ],
   "source": [
    "help(str.split)"
   ]
  },
  {
   "cell_type": "code",
   "execution_count": 43,
   "id": "c2c54e0d",
   "metadata": {},
   "outputs": [
    {
     "data": {
      "text/plain": [
       "list"
      ]
     },
     "execution_count": 43,
     "metadata": {},
     "output_type": "execute_result"
    }
   ],
   "source": [
    "job_title = job_title.split(sep = \" \", maxsplit = 1)\n",
    "type(job_title)"
   ]
  },
  {
   "cell_type": "code",
   "execution_count": 44,
   "id": "6693541d",
   "metadata": {},
   "outputs": [
    {
     "data": {
      "text/plain": [
       "['Data', 'Analyst']"
      ]
     },
     "execution_count": 44,
     "metadata": {},
     "output_type": "execute_result"
    }
   ],
   "source": [
    "job_title"
   ]
  },
  {
   "cell_type": "code",
   "execution_count": 46,
   "id": "29fd7e45",
   "metadata": {},
   "outputs": [
    {
     "data": {
      "text/plain": [
       "'Data Analyst'"
      ]
     },
     "execution_count": 46,
     "metadata": {},
     "output_type": "execute_result"
    }
   ],
   "source": [
    "str.__add__(\"Data \", \"Analyst\")\n",
    "\"Data \".__add__(\"Analyst\")\n",
    "\"Data\" + \"Analyst\""
   ]
  },
  {
   "cell_type": "code",
   "execution_count": 49,
   "id": "9de24af9",
   "metadata": {},
   "outputs": [
    {
     "data": {
      "text/plain": [
       "12"
      ]
     },
     "execution_count": 49,
     "metadata": {},
     "output_type": "execute_result"
    }
   ],
   "source": [
    "\"Data Analyst\".__len__()\n",
    "len(\"Data Analyst\")"
   ]
  },
  {
   "cell_type": "code",
   "execution_count": null,
   "id": "27deacf8",
   "metadata": {},
   "outputs": [],
   "source": [
    "str.len(\"Data Analyst\")"
   ]
  }
 ],
 "metadata": {
  "kernelspec": {
   "display_name": "Python 3 (ipykernel)",
   "language": "python",
   "name": "python3"
  },
  "language_info": {
   "codemirror_mode": {
    "name": "ipython",
    "version": 3
   },
   "file_extension": ".py",
   "mimetype": "text/x-python",
   "name": "python",
   "nbconvert_exporter": "python",
   "pygments_lexer": "ipython3",
   "version": "3.11.4"
  }
 },
 "nbformat": 4,
 "nbformat_minor": 5
}
