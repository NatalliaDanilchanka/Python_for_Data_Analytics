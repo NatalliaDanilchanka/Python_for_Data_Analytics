{
 "cells": [
  {
   "cell_type": "markdown",
   "id": "3a8729bf",
   "metadata": {},
   "source": [
    "# Function"
   ]
  },
  {
   "cell_type": "code",
   "execution_count": 1,
   "id": "7326ae4e",
   "metadata": {},
   "outputs": [
    {
     "name": "stdout",
     "output_type": "stream",
     "text": [
      "Hi, what is your name? Mila\n",
      "Hi Mila, you are wellcome\n"
     ]
    }
   ],
   "source": [
    "def greet():\n",
    "    name = input(\"Hi, what is your name? \")\n",
    "    return print(f\"Hi {name}, you are wellcome\")\n",
    "\n",
    "greet()"
   ]
  },
  {
   "cell_type": "markdown",
   "id": "578dbc9a",
   "metadata": {},
   "source": [
    "# Class"
   ]
  },
  {
   "cell_type": "code",
   "execution_count": 2,
   "id": "4c5a2610",
   "metadata": {},
   "outputs": [],
   "source": [
    "job_title = \"Data Analyst\"\n",
    "job_location = \"United States\"\n",
    "job_salary = 90000\n",
    "\n",
    "\n",
    "class JobPost:\n",
    "    def __init__(self, title: str, location: str, salary: int):\n",
    "        self.title = title\n",
    "        self. location = location\n",
    "        self. salary = salary\n",
    "        \n",
    "    def display_info(self):\n",
    "        return print(f\"Job:        {self.title}\\nLocation:   {self.location}\\nSalary:     ${self.salary:,.0f}\")"
   ]
  },
  {
   "cell_type": "code",
   "execution_count": 3,
   "id": "769d8257",
   "metadata": {},
   "outputs": [
    {
     "data": {
      "text/plain": [
       "'Data Analyst'"
      ]
     },
     "execution_count": 3,
     "metadata": {},
     "output_type": "execute_result"
    }
   ],
   "source": [
    "job_1 = JobPost(job_title, job_location, job_salary)\n",
    "job_1.title"
   ]
  },
  {
   "cell_type": "code",
   "execution_count": 4,
   "id": "f699471a",
   "metadata": {},
   "outputs": [
    {
     "name": "stdout",
     "output_type": "stream",
     "text": [
      "Job:        Data Analyst\n",
      "Location:   United States\n",
      "Salary:     $90,000\n"
     ]
    }
   ],
   "source": [
    "job_1.display_info()"
   ]
  },
  {
   "cell_type": "markdown",
   "id": "b4c55676",
   "metadata": {},
   "source": [
    "# String build in functions"
   ]
  },
  {
   "cell_type": "code",
   "execution_count": 5,
   "id": "dba32f85",
   "metadata": {},
   "outputs": [
    {
     "data": {
      "text/plain": [
       "'PYTHON'"
      ]
     },
     "execution_count": 5,
     "metadata": {},
     "output_type": "execute_result"
    }
   ],
   "source": [
    "skill = \"Python\"\n",
    "skill.upper()"
   ]
  },
  {
   "cell_type": "code",
   "execution_count": 6,
   "id": "68249fac",
   "metadata": {},
   "outputs": [
    {
     "data": {
      "text/plain": [
       "'python'"
      ]
     },
     "execution_count": 6,
     "metadata": {},
     "output_type": "execute_result"
    }
   ],
   "source": [
    "skill.lower()\n",
    "\"Python\".lower()\n",
    "str.lower(\"Python\")"
   ]
  },
  {
   "cell_type": "code",
   "execution_count": 7,
   "id": "ecbb002c",
   "metadata": {},
   "outputs": [
    {
     "data": {
      "text/plain": [
       "'Jython'"
      ]
     },
     "execution_count": 7,
     "metadata": {},
     "output_type": "execute_result"
    }
   ],
   "source": [
    "skill.replace(\"P\",\"J\")"
   ]
  },
  {
   "cell_type": "code",
   "execution_count": 8,
   "id": "36cc2c65",
   "metadata": {},
   "outputs": [
    {
     "data": {
      "text/plain": [
       "'Doto Analyst'"
      ]
     },
     "execution_count": 8,
     "metadata": {},
     "output_type": "execute_result"
    }
   ],
   "source": [
    "job_title = \"Data Analyst\"\n",
    "job_title.replace(\"a\", \"o\", 2)"
   ]
  },
  {
   "cell_type": "code",
   "execution_count": 9,
   "id": "904c4e14",
   "metadata": {},
   "outputs": [
    {
     "name": "stdout",
     "output_type": "stream",
     "text": [
      "Help on method_descriptor:\n",
      "\n",
      "split(self, /, sep=None, maxsplit=-1)\n",
      "    Return a list of the substrings in the string, using sep as the separator string.\n",
      "    \n",
      "      sep\n",
      "        The separator used to split the string.\n",
      "    \n",
      "        When set to None (the default value), will split on any whitespace\n",
      "        character (including \\\\n \\\\r \\\\t \\\\f and spaces) and will discard\n",
      "        empty strings from the result.\n",
      "      maxsplit\n",
      "        Maximum number of splits (starting from the left).\n",
      "        -1 (the default value) means no limit.\n",
      "    \n",
      "    Note, str.split() is mainly useful for data that has been intentionally\n",
      "    delimited.  With natural text that includes punctuation, consider using\n",
      "    the regular expression module.\n",
      "\n"
     ]
    }
   ],
   "source": [
    "help(str.split)"
   ]
  },
  {
   "cell_type": "code",
   "execution_count": 10,
   "id": "a15d4e84",
   "metadata": {},
   "outputs": [
    {
     "data": {
      "text/plain": [
       "list"
      ]
     },
     "execution_count": 10,
     "metadata": {},
     "output_type": "execute_result"
    }
   ],
   "source": [
    "job_title = job_title.split(sep = \" \", maxsplit = 1)\n",
    "type(job_title)"
   ]
  },
  {
   "cell_type": "code",
   "execution_count": 11,
   "id": "f6a8d5db",
   "metadata": {},
   "outputs": [
    {
     "data": {
      "text/plain": [
       "['Data', 'Analyst']"
      ]
     },
     "execution_count": 11,
     "metadata": {},
     "output_type": "execute_result"
    }
   ],
   "source": [
    "job_title"
   ]
  },
  {
   "cell_type": "code",
   "execution_count": 12,
   "id": "925a504d",
   "metadata": {},
   "outputs": [
    {
     "data": {
      "text/plain": [
       "'DataAnalyst'"
      ]
     },
     "execution_count": 12,
     "metadata": {},
     "output_type": "execute_result"
    }
   ],
   "source": [
    "str.__add__(\"Data \", \"Analyst\")\n",
    "\"Data \".__add__(\"Analyst\")\n",
    "\"Data\" + \"Analyst\""
   ]
  },
  {
   "cell_type": "code",
   "execution_count": 13,
   "id": "32ed4fb1",
   "metadata": {},
   "outputs": [
    {
     "data": {
      "text/plain": [
       "12"
      ]
     },
     "execution_count": 13,
     "metadata": {},
     "output_type": "execute_result"
    }
   ],
   "source": [
    "\"Data Analyst\".__len__()\n",
    "str.__len__(\"Data Analyst\")\n",
    "len(\"Data Analyst\")"
   ]
  },
  {
   "cell_type": "markdown",
   "id": "1b410f9c",
   "metadata": {},
   "source": [
    "# String Formatting"
   ]
  },
  {
   "cell_type": "code",
   "execution_count": 1,
   "id": "3095278c",
   "metadata": {},
   "outputs": [],
   "source": [
    "role = \"Data science\""
   ]
  },
  {
   "cell_type": "code",
   "execution_count": 2,
   "id": "bedb0a2a",
   "metadata": {},
   "outputs": [
    {
     "data": {
      "text/plain": [
       "'Role: Data science'"
      ]
     },
     "execution_count": 2,
     "metadata": {},
     "output_type": "execute_result"
    }
   ],
   "source": [
    "# Using str.format()\n",
    "\"Role: {}\".format(role)"
   ]
  },
  {
   "cell_type": "code",
   "execution_count": 3,
   "id": "3a412cd3",
   "metadata": {},
   "outputs": [
    {
     "data": {
      "text/plain": [
       "'Role: Data science'"
      ]
     },
     "execution_count": 3,
     "metadata": {},
     "output_type": "execute_result"
    }
   ],
   "source": [
    "# Using f-string\n",
    "f\"Role: {role}\""
   ]
  },
  {
   "cell_type": "code",
   "execution_count": null,
   "id": "de9e2100",
   "metadata": {},
   "outputs": [],
   "source": []
  },
  {
   "cell_type": "code",
   "execution_count": null,
   "id": "254cfd19",
   "metadata": {},
   "outputs": [],
   "source": []
  },
  {
   "cell_type": "code",
   "execution_count": null,
   "id": "280fcd15",
   "metadata": {},
   "outputs": [],
   "source": []
  }
 ],
 "metadata": {
  "kernelspec": {
   "display_name": "Python 3 (ipykernel)",
   "language": "python",
   "name": "python3"
  },
  "language_info": {
   "codemirror_mode": {
    "name": "ipython",
    "version": 3
   },
   "file_extension": ".py",
   "mimetype": "text/x-python",
   "name": "python",
   "nbconvert_exporter": "python",
   "pygments_lexer": "ipython3",
   "version": "3.11.4"
  }
 },
 "nbformat": 4,
 "nbformat_minor": 5
}
