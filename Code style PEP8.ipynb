{
 "cells": [
  {
   "cell_type": "code",
   "execution_count": 2,
   "id": "6da07b0b",
   "metadata": {},
   "outputs": [],
   "source": [
    "\"\"\"God still\"\"\" \n",
    "#dictionaries\n",
    "forkotelser = {\n",
    "    \"A\":\"Anna\", \n",
    "    \"B\":\"Brendon\",\n",
    "    \"C\":\"Camila\",\n",
    "    \"D\":\"Daniel\",\n",
    "    \"E\":\"Emilia\",\n",
    "    \"F\":\"Filiph\"\n",
    "}\n",
    "\n",
    "# små bokstaver og undescore på navn til variabler og funksjoner\n",
    "en_verdi = \"En verdi\"\n",
    "\n",
    "def en_funksjon(en_parameter):\n",
    "    pass\n",
    "\n",
    "#Navn på klasser med stor forbokstav og ingen underscore\n",
    "class HeltUbrukeligKlasse:\n",
    "    pass\n",
    "\n",
    "#Untakk: innebygde typer i Python\n",
    "noe_innebygde_typer = [int, list, dict, str, bool]\n",
    "\n",
    "#Store bokstaver hele veien = noe som ikke skal endres\n",
    "EN_KONSTANT = 42"
   ]
  },
  {
   "cell_type": "code",
   "execution_count": 3,
   "id": "2ee15cb0",
   "metadata": {},
   "outputs": [],
   "source": [
    "#Unngå\n",
    "l = 1\n",
    "O = 0\n",
    "I = 1\n",
    "\n",
    "# Note: ellers bør de begrenses til matematiske variabler\n",
    "x = 3\n",
    "g = 9.81\n",
    "# bruk ellers beskrivende variablenavn"
   ]
  },
  {
   "cell_type": "code",
   "execution_count": 4,
   "id": "e25bdb69",
   "metadata": {},
   "outputs": [],
   "source": [
    "x=x+1       # :(\n",
    "x = x + 1   # :D\n",
    "\n",
    "y = x+x * x-x       # :(\n",
    "y = x + x * x - x   # :(\n",
    "y = x + x*x - x     # :D"
   ]
  },
  {
   "cell_type": "code",
   "execution_count": 5,
   "id": "93acc05c",
   "metadata": {},
   "outputs": [],
   "source": [
    "# Dårlig stil: mer enn 79 tegn på samme linje\n",
    "nlang_list = noe_innebygde_typer  + noe_innebygde_typer  + noe_innebygde_typer  + noe_innebygde_typer \n",
    "\n",
    "# Bra still\n",
    "nlang_list = (noe_innebygde_typer  + noe_innebygde_typer  \n",
    "              + noe_innebygde_typer  + noe_innebygde_typer) "
   ]
  },
  {
   "cell_type": "code",
   "execution_count": 6,
   "id": "9575afd8",
   "metadata": {},
   "outputs": [],
   "source": [
    "#Dårlig still\n",
    "def langt_funksjon(\n",
    "    den_første_parameter,\n",
    "    den_andre_parameter,\n",
    "    den_tredje_parameter):\n",
    "    ffff = 4536556764\n",
    "\n",
    "# Bra\n",
    "def langt_funksjon(\n",
    "        den_første_parameter,\n",
    "        den_andre_parameter,\n",
    "        den_tredje_parameter):\n",
    "    ffff = 4536556764"
   ]
  },
  {
   "cell_type": "code",
   "execution_count": 7,
   "id": "8288f75b",
   "metadata": {},
   "outputs": [],
   "source": [
    "#Komentarer: bruk kommentarer på samme linje sparsomt\n",
    "g = 9.81        # m/(s^2)\n",
    "forbruk = 1123  # kWh"
   ]
  },
  {
   "cell_type": "code",
   "execution_count": 8,
   "id": "8771ee81",
   "metadata": {},
   "outputs": [
    {
     "data": {
      "text/plain": [
       "'\\nMultiple\\nline\\ndocstring\\n'"
      ]
     },
     "execution_count": 8,
     "metadata": {},
     "output_type": "execute_result"
    }
   ],
   "source": [
    "# Docstring\n",
    "\n",
    "\"\"\"One line docstring\"\"\"\n",
    "\n",
    "\"\"\"\n",
    "Multiple\n",
    "line\n",
    "docstring\n",
    "\"\"\""
   ]
  },
  {
   "cell_type": "code",
   "execution_count": null,
   "id": "c8745015",
   "metadata": {},
   "outputs": [],
   "source": []
  }
 ],
 "metadata": {
  "kernelspec": {
   "display_name": "Python 3 (ipykernel)",
   "language": "python",
   "name": "python3"
  },
  "language_info": {
   "codemirror_mode": {
    "name": "ipython",
    "version": 3
   },
   "file_extension": ".py",
   "mimetype": "text/x-python",
   "name": "python",
   "nbconvert_exporter": "python",
   "pygments_lexer": "ipython3",
   "version": "3.11.4"
  }
 },
 "nbformat": 4,
 "nbformat_minor": 5
}
